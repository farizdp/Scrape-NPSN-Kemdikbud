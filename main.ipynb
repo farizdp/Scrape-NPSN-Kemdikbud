{
 "cells": [
  {
   "cell_type": "code",
   "execution_count": 1,
   "metadata": {},
   "outputs": [],
   "source": [
    "import requests, unicodedata, re, csv\n",
    "from bs4 import BeautifulSoup\n",
    "from html_table_parser.parser import HTMLTableParser"
   ]
  },
  {
   "cell_type": "code",
   "execution_count": 2,
   "metadata": {},
   "outputs": [],
   "source": [
    "def link(url):\n",
    "    web = requests.get(url)\n",
    "    soup = BeautifulSoup(web.text, 'lxml')\n",
    "    table = soup.find('table', id=\"box-table-a\")\n",
    "    if table is None:\n",
    "        table = soup.find('table', id=\"example\")\n",
    "        link = table.findAll('a')\n",
    "        links = [unicodedata.normalize(\"NFKD\", x.text).strip() for x in link]\n",
    "    else:\n",
    "        link = table.findAll('a')\n",
    "        links = ['https://referensi.data.kemdikbud.go.id/' + i['href'] for i in link if 'kode' in i['href']]\n",
    "    return links"
   ]
  },
  {
   "cell_type": "code",
   "execution_count": 3,
   "metadata": {},
   "outputs": [],
   "source": [
    "def detail_sekolah(id, prov, kota, kec):\n",
    "    url = 'https://referensi.data.kemdikbud.go.id/tabs.php?npsn=' + id\n",
    "    page = requests.get(url)\n",
    "    s = BeautifulSoup(page.text, 'lxml')\n",
    "    p1, p2 = HTMLTableParser(), HTMLTableParser() \n",
    "    p1.feed(str(s.find('div', id=\"tabs-1\")))\n",
    "    p2.feed(str(s.find('div', id=\"tabs-2\")))\n",
    "    script = s.select_one(\"script:contains('map')\")\n",
    "    [latitude, longitude] = re.search('L.marker\\(\\[(.+?)\\]\\).addTo', str(script)).group(1).split(\",\")\n",
    "    detail = [p1.tables[0][1][3],\n",
    "                p1.tables[0][0][3],\n",
    "                p1.tables[0][8][3].replace(\"Prov. \", \"\"),\n",
    "                re.search('kode=(.+?)&level', str(prov)).group(1),\n",
    "                p1.tables[0][7][3].replace(\"Kab. \", \"\"),\n",
    "                re.search('kode=(.+?)&level', str(kota)).group(1),\n",
    "                p1.tables[0][6][3].replace(\"Kec. \", \"\"),\n",
    "                re.search('kode=(.+?)&level', str(kec)).group(1),\n",
    "                p1.tables[0][5][3],\n",
    "                p1.tables[0][2][3],\n",
    "                p1.tables[0][9][3],\n",
    "                p1.tables[0][13][3],\n",
    "                p2.tables[1][0][3],\n",
    "                p2.tables[1][1][3],\n",
    "                p2.tables[1][2][3],\n",
    "                p2.tables[1][4][3],\n",
    "                p2.tables[1][5][3],\n",
    "                p2.tables[1][6][3],\n",
    "                p2.tables[1][11][3],\n",
    "                p2.tables[1][12][3],\n",
    "                p2.tables[1][9][3],\n",
    "                p2.tables[1][14][3],\n",
    "                latitude,\n",
    "                longitude]\n",
    "    return detail"
   ]
  },
  {
   "cell_type": "code",
   "execution_count": 4,
   "metadata": {},
   "outputs": [],
   "source": [
    "header = [\"NPSN\",\n",
    "            \"Sekolah\",\n",
    "            \"Provinsi\",\n",
    "            \"Kode Provinsi\",\n",
    "            \"Kabupaten\",\n",
    "            \"Kode Kabupaten\",\n",
    "            \"Kecamatan\",\n",
    "            \"Kode Kecamatan\",\n",
    "            \"Kelurahan\",\n",
    "            \"Alamat\",\n",
    "            \"Status\",\n",
    "            \"Jenjang\",\n",
    "            \"Naungan\",\n",
    "            \"SK Pendirian\",\n",
    "            \"Tgl SK Pendirian\",\n",
    "            \"SK Operasional\",\n",
    "            \"Tgl Mulai SK Operasional\",\n",
    "            \"Tgl Akhir SK Operasional\",\n",
    "            \"SK Akreditasi\",\n",
    "            \"Tgl SK Akreditasi\",\n",
    "            \"Akreditasi\",\n",
    "            \"SK ISO\",\n",
    "            \"Latitude\",\n",
    "            \"Longitude\"]\n",
    "\n",
    "referensi = ['https://referensi.data.kemdikbud.go.id/index11.php'\n",
    "            ,'https://referensi.data.kemdikbud.go.id/index21.php'\n",
    "            ,'https://referensi.data.kemdikbud.go.id/index31.php'\n",
    "            ,'https://referensi.data.kemdikbud.go.id/index41.php'\n",
    "            ,'https://referensi.data.kemdikbud.go.id/index51.php']"
   ]
  },
  {
   "cell_type": "code",
   "execution_count": 6,
   "metadata": {},
   "outputs": [],
   "source": [
    "with open('npsn.csv', mode='w', newline='', encoding='utf-8') as file:\n",
    "    writer = csv.writer(file, delimiter='|', quoting=csv.QUOTE_MINIMAL)\n",
    "    writer.writerow(header)\n",
    "    for ref in referensi:\n",
    "        for prov in link(ref):\n",
    "            for kota in link(prov):\n",
    "                for kec in link(kota):\n",
    "                    for id in link(kec):\n",
    "                        writer.writerow(detail_sekolah(id, prov, kota, kec))"
   ]
  }
 ],
 "metadata": {
  "interpreter": {
   "hash": "40d3a090f54c6569ab1632332b64b2c03c39dcf918b08424e98f38b5ae0af88f"
  },
  "kernelspec": {
   "display_name": "Python 3.8.3 ('base')",
   "language": "python",
   "name": "python3"
  },
  "language_info": {
   "codemirror_mode": {
    "name": "ipython",
    "version": 3
   },
   "file_extension": ".py",
   "mimetype": "text/x-python",
   "name": "python",
   "nbconvert_exporter": "python",
   "pygments_lexer": "ipython3",
   "version": "3.8.3"
  },
  "orig_nbformat": 4
 },
 "nbformat": 4,
 "nbformat_minor": 2
}
